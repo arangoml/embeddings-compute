{
 "cells": [
  {
   "cell_type": "code",
   "execution_count": 1,
   "id": "ba354a0b",
   "metadata": {},
   "outputs": [
    {
     "name": "stderr",
     "output_type": "stream",
     "text": [
      "/Users/sachin/anaconda3/envs/transformers/lib/python3.8/site-packages/tritongrpcclient/__init__.py:30: DeprecationWarning: The package `tritongrpcclient` is deprecated and will be removed in a future version. Please use instead `tritonclient.grpc`\n",
      "  warnings.warn(\n",
      "/Users/sachin/anaconda3/envs/transformers/lib/python3.8/site-packages/tritongrpcclient/model_config_pb2.py:30: DeprecationWarning: The package `tritongrpcclient` is deprecated and will be removed in a future version. Please use instead `tritonclient.grpc.model_config_pb2`\n",
      "  warnings.warn(\n",
      "/Users/sachin/anaconda3/envs/transformers/lib/python3.8/site-packages/tritonhttpclient/__init__.py:30: DeprecationWarning: The package `tritonhttpclient` is deprecated and will be removed in a future version. Please use instead `tritonclient.http`\n",
      "  warnings.warn(\n",
      "/Users/sachin/anaconda3/envs/transformers/lib/python3.8/site-packages/tritonclientutils/__init__.py:30: DeprecationWarning: The package `tritonclientutils` is deprecated and will be removed in a future version. Please use instead `tritonclient.utils`\n",
      "  warnings.warn(\n"
     ]
    }
   ],
   "source": [
    "import numpy as np\n",
    "import sys\n",
    "from functools import partial\n",
    "import os\n",
    "import tritongrpcclient\n",
    "import tritongrpcclient.model_config_pb2 as mc\n",
    "import tritonhttpclient\n",
    "from tritonclientutils import triton_to_np_dtype\n",
    "from tritonclientutils import InferenceServerException\n",
    "import torch\n",
    "import torch.nn.functional as F\n",
    "from tqdm import tqdm\n",
    "from ogb.nodeproppred import PygNodePropPredDataset, Evaluator\n",
    "from torch_geometric.data import NeighborSampler\n",
    "from torch_geometric.nn import SAGEConv\n",
    "import os\n",
    "from torch_geometric.utils import to_networkx\n",
    "import networkx as nx\n",
    "# importing matplotlib.pyplot\n",
    "import matplotlib.pyplot as plt\n",
    "import numpy as np"
   ]
  },
  {
   "cell_type": "code",
   "execution_count": 3,
   "id": "732bcbc7",
   "metadata": {},
   "outputs": [
    {
     "name": "stderr",
     "output_type": "stream",
     "text": [
      "/Users/sachin/anaconda3/envs/transformers/lib/python3.8/site-packages/ipykernel/ipkernel.py:287: DeprecationWarning: `should_run_async` will not call `transform_cell` automatically in the future. Please pass the result to `transformed_cell` argument and any exception that happen during thetransform in `preprocessing_exc_tuple` in IPython 7.17 and above.\n",
      "  and should_run_async(code)\n"
     ]
    }
   ],
   "source": [
    "root = '/Users/sachin/Desktop/arangodb/scripts/ArangoML/graph_embeddings/products'"
   ]
  },
  {
   "cell_type": "code",
   "execution_count": 4,
   "id": "40c29a7f",
   "metadata": {},
   "outputs": [
    {
     "name": "stderr",
     "output_type": "stream",
     "text": [
      "/Users/sachin/anaconda3/envs/transformers/lib/python3.8/site-packages/ipykernel/ipkernel.py:287: DeprecationWarning: `should_run_async` will not call `transform_cell` automatically in the future. Please pass the result to `transformed_cell` argument and any exception that happen during thetransform in `preprocessing_exc_tuple` in IPython 7.17 and above.\n",
      "  and should_run_async(code)\n"
     ]
    }
   ],
   "source": [
    "dataset = PygNodePropPredDataset('ogbn-products', root)"
   ]
  },
  {
   "cell_type": "code",
   "execution_count": 5,
   "id": "45e9aefa",
   "metadata": {},
   "outputs": [
    {
     "name": "stderr",
     "output_type": "stream",
     "text": [
      "/Users/sachin/anaconda3/envs/transformers/lib/python3.8/site-packages/ipykernel/ipkernel.py:287: DeprecationWarning: `should_run_async` will not call `transform_cell` automatically in the future. Please pass the result to `transformed_cell` argument and any exception that happen during thetransform in `preprocessing_exc_tuple` in IPython 7.17 and above.\n",
      "  and should_run_async(code)\n"
     ]
    }
   ],
   "source": [
    "# getting train val test split idx based on sales ranking\n",
    "split_idx = dataset.get_idx_split()\n",
    "evaluator = Evaluator(name='ogbn-products')\n",
    "data = dataset[0]"
   ]
  },
  {
   "cell_type": "code",
   "execution_count": 7,
   "id": "0ee13d66",
   "metadata": {},
   "outputs": [
    {
     "name": "stderr",
     "output_type": "stream",
     "text": [
      "/Users/sachin/anaconda3/envs/transformers/lib/python3.8/site-packages/ipykernel/ipkernel.py:287: DeprecationWarning: `should_run_async` will not call `transform_cell` automatically in the future. Please pass the result to `transformed_cell` argument and any exception that happen during thetransform in `preprocessing_exc_tuple` in IPython 7.17 and above.\n",
      "  and should_run_async(code)\n"
     ]
    }
   ],
   "source": [
    "test_idx = split_idx['test']\n"
   ]
  },
  {
   "cell_type": "code",
   "execution_count": 8,
   "id": "e7090a37",
   "metadata": {},
   "outputs": [
    {
     "name": "stderr",
     "output_type": "stream",
     "text": [
      "/Users/sachin/anaconda3/envs/transformers/lib/python3.8/site-packages/ipykernel/ipkernel.py:287: DeprecationWarning: `should_run_async` will not call `transform_cell` automatically in the future. Please pass the result to `transformed_cell` argument and any exception that happen during thetransform in `preprocessing_exc_tuple` in IPython 7.17 and above.\n",
      "  and should_run_async(code)\n"
     ]
    }
   ],
   "source": [
    "test_loader = NeighborSampler(data.edge_index, node_idx=test_idx,\n",
    "                              sizes=[15, 10, 5], batch_size=1,\n",
    "                              shuffle=False, num_workers=12)"
   ]
  },
  {
   "cell_type": "code",
   "execution_count": 55,
   "id": "3761e426",
   "metadata": {},
   "outputs": [
    {
     "name": "stderr",
     "output_type": "stream",
     "text": [
      "/Users/sachin/anaconda3/envs/transformers/lib/python3.8/site-packages/ipykernel/ipkernel.py:287: DeprecationWarning: `should_run_async` will not call `transform_cell` automatically in the future. Please pass the result to `transformed_cell` argument and any exception that happen during thetransform in `preprocessing_exc_tuple` in IPython 7.17 and above.\n",
      "  and should_run_async(code)\n"
     ]
    }
   ],
   "source": [
    "# selecting random node for input\n",
    "dummy_n_ids = []\n",
    "dummy_adjs = []\n",
    "for idx, (batch_size, n_id, adjs) in enumerate(test_loader):\n",
    "        if idx == 100:\n",
    "            dummy_n_ids.append(n_id)\n",
    "            dummy_adjs.append(adjs)\n",
    "            break"
   ]
  },
  {
   "cell_type": "code",
   "execution_count": 56,
   "id": "ef5c29fd",
   "metadata": {},
   "outputs": [
    {
     "name": "stderr",
     "output_type": "stream",
     "text": [
      "/Users/sachin/anaconda3/envs/transformers/lib/python3.8/site-packages/ipykernel/ipkernel.py:287: DeprecationWarning: `should_run_async` will not call `transform_cell` automatically in the future. Please pass the result to `transformed_cell` argument and any exception that happen during thetransform in `preprocessing_exc_tuple` in IPython 7.17 and above.\n",
      "  and should_run_async(code)\n"
     ]
    }
   ],
   "source": [
    "# creating adjs for performing a trace on the GraphSage model\n",
    "# will contain only edge_idx and size attributes\n",
    "edge_list_0 = []\n",
    "edge_list_1 = []\n",
    "edge_list_2 = []\n",
    "edge_adjs = []\n",
    "for idx, e_idx in enumerate(dummy_adjs[0]):\n",
    "    if idx == 0:\n",
    "        edge_list_0.append(e_idx[0])\n",
    "        #edge_list_0.append(e_idx[1])\n",
    "        edge_list_0.append(torch.tensor(np.asarray(e_idx[2])))\n",
    "    elif idx == 1:\n",
    "        edge_list_1.append(e_idx[0])\n",
    "        #edge_list_1.append(e_idx[1])\n",
    "        edge_list_1.append(torch.tensor(np.asarray(e_idx[2])))\n",
    "    else:\n",
    "        edge_list_2.append(e_idx[0])\n",
    "        #edge_list_2.append(e_idx[1])\n",
    "        edge_list_2.append(torch.tensor(np.asarray(e_idx[2])))"
   ]
  },
  {
   "cell_type": "code",
   "execution_count": 57,
   "id": "4b15b2ab",
   "metadata": {},
   "outputs": [
    {
     "name": "stderr",
     "output_type": "stream",
     "text": [
      "/Users/sachin/anaconda3/envs/transformers/lib/python3.8/site-packages/ipykernel/ipkernel.py:287: DeprecationWarning: `should_run_async` will not call `transform_cell` automatically in the future. Please pass the result to `transformed_cell` argument and any exception that happen during thetransform in `preprocessing_exc_tuple` in IPython 7.17 and above.\n",
      "  and should_run_async(code)\n"
     ]
    }
   ],
   "source": [
    "# loading edge_index and size layer wise\n",
    "edge_index_0 = edge_list_0[0]\n",
    "edge_size_0 = edge_list_0[1]\n",
    "\n",
    "edge_index_1 = edge_list_1[0]\n",
    "edge_size_1 = edge_list_1[1]\n",
    "\n",
    "edge_index_2 = edge_list_2[0]\n",
    "edge_size_2 = edge_list_2[1]"
   ]
  },
  {
   "cell_type": "code",
   "execution_count": 58,
   "id": "fb882fdf",
   "metadata": {},
   "outputs": [
    {
     "name": "stderr",
     "output_type": "stream",
     "text": [
      "/Users/sachin/anaconda3/envs/transformers/lib/python3.8/site-packages/ipykernel/ipkernel.py:287: DeprecationWarning: `should_run_async` will not call `transform_cell` automatically in the future. Please pass the result to `transformed_cell` argument and any exception that happen during thetransform in `preprocessing_exc_tuple` in IPython 7.17 and above.\n",
      "  and should_run_async(code)\n"
     ]
    }
   ],
   "source": [
    "# loading node feature matrix\n",
    "device = torch.device('cuda' if torch.cuda.is_available() else 'cpu')\n",
    "x = data.x.to(device)"
   ]
  },
  {
   "cell_type": "code",
   "execution_count": 59,
   "id": "e4e1def0",
   "metadata": {},
   "outputs": [
    {
     "name": "stderr",
     "output_type": "stream",
     "text": [
      "/Users/sachin/anaconda3/envs/transformers/lib/python3.8/site-packages/ipykernel/ipkernel.py:287: DeprecationWarning: `should_run_async` will not call `transform_cell` automatically in the future. Please pass the result to `transformed_cell` argument and any exception that happen during thetransform in `preprocessing_exc_tuple` in IPython 7.17 and above.\n",
      "  and should_run_async(code)\n"
     ]
    },
    {
     "data": {
      "text/plain": [
       "torch.Size([459, 100])"
      ]
     },
     "execution_count": 59,
     "metadata": {},
     "output_type": "execute_result"
    }
   ],
   "source": [
    "# lets create node dummy input for the trace\n",
    "dummy_x = x[dummy_n_ids[0]]\n",
    "dummy_x.shape"
   ]
  },
  {
   "cell_type": "code",
   "execution_count": 60,
   "id": "c8a8cbb1",
   "metadata": {},
   "outputs": [
    {
     "name": "stderr",
     "output_type": "stream",
     "text": [
      "/Users/sachin/anaconda3/envs/transformers/lib/python3.8/site-packages/ipykernel/ipkernel.py:287: DeprecationWarning: `should_run_async` will not call `transform_cell` automatically in the future. Please pass the result to `transformed_cell` argument and any exception that happen during thetransform in `preprocessing_exc_tuple` in IPython 7.17 and above.\n",
      "  and should_run_async(code)\n"
     ]
    }
   ],
   "source": [
    "# pad nodes\n",
    "max_nodes = 1000\n",
    "total_nodes = dummy_x.size(0)\n",
    "nodes_padded = max_nodes - total_nodes\n",
    "dummy_x_pad = F.pad(input=dummy_x, pad=(0, 0, 0, nodes_padded), mode='constant', value=0)"
   ]
  },
  {
   "cell_type": "code",
   "execution_count": 61,
   "id": "f6c4a9a4",
   "metadata": {},
   "outputs": [
    {
     "name": "stderr",
     "output_type": "stream",
     "text": [
      "/Users/sachin/anaconda3/envs/transformers/lib/python3.8/site-packages/ipykernel/ipkernel.py:287: DeprecationWarning: `should_run_async` will not call `transform_cell` automatically in the future. Please pass the result to `transformed_cell` argument and any exception that happen during thetransform in `preprocessing_exc_tuple` in IPython 7.17 and above.\n",
      "  and should_run_async(code)\n"
     ]
    },
    {
     "data": {
      "text/plain": [
       "torch.Size([1000, 100])"
      ]
     },
     "execution_count": 61,
     "metadata": {},
     "output_type": "execute_result"
    }
   ],
   "source": [
    "dummy_x_pad.shape"
   ]
  },
  {
   "cell_type": "markdown",
   "id": "da8528e5",
   "metadata": {},
   "source": [
    "## Let's test prediction on  test nodes "
   ]
  },
  {
   "cell_type": "code",
   "execution_count": 62,
   "id": "576abe22",
   "metadata": {},
   "outputs": [
    {
     "name": "stderr",
     "output_type": "stream",
     "text": [
      "/Users/sachin/anaconda3/envs/transformers/lib/python3.8/site-packages/ipykernel/ipkernel.py:287: DeprecationWarning: `should_run_async` will not call `transform_cell` automatically in the future. Please pass the result to `transformed_cell` argument and any exception that happen during thetransform in `preprocessing_exc_tuple` in IPython 7.17 and above.\n",
      "  and should_run_async(code)\n"
     ]
    }
   ],
   "source": [
    "input_name = ['input__0', 'input__1', 'input__2', 'input__3', 'input__4', 'input__5', 'input__6']\n",
    "output_name = ['output__0', 'output__1', 'output__2']\n",
    "VERBOSE = False\n",
    "from tritonclient.utils import *"
   ]
  },
  {
   "cell_type": "code",
   "execution_count": 63,
   "id": "d146771f",
   "metadata": {},
   "outputs": [
    {
     "name": "stderr",
     "output_type": "stream",
     "text": [
      "/Users/sachin/anaconda3/envs/transformers/lib/python3.8/site-packages/ipykernel/ipkernel.py:287: DeprecationWarning: `should_run_async` will not call `transform_cell` automatically in the future. Please pass the result to `transformed_cell` argument and any exception that happen during thetransform in `preprocessing_exc_tuple` in IPython 7.17 and above.\n",
      "  and should_run_async(code)\n"
     ]
    }
   ],
   "source": [
    "def run_inference(node_matrix, edge_index_0, edge_size_0, edge_index_1, edge_size_1, edge_index_2, edge_size_2, model_name='graph_embeddings', url='127.0.0.1:8000', model_version='1'):\n",
    "    triton_client = tritonhttpclient.InferenceServerClient(\n",
    "        url=url, verbose=VERBOSE)\n",
    "    model_metadata = triton_client.get_model_metadata(\n",
    "        model_name=model_name, model_version=model_version)\n",
    "    model_config = triton_client.get_model_config(\n",
    "        model_name=model_name, model_version=model_version)\n",
    "    # I have restricted the input sequence length to 256\n",
    "\n",
    "    input_node_matrix = node_matrix\n",
    "    input_node_matrix  = np.array(input_node_matrix, dtype=np.float32)\n",
    "    \n",
    "    # edges_indexes and sizes\n",
    "    ed_index_0 = np.array(edge_index_0, dtype=np.int64)\n",
    "    ed_index_1 = np.array(edge_index_1, dtype=np.int64)\n",
    "    ed_index_2 = np.array(edge_index_2, dtype=np.int64)\n",
    "    \n",
    "    ed_size_0 = np.array(edge_size_0, dtype=np.int64)\n",
    "    ed_size_1 = np.array(edge_size_1, dtype=np.int64)\n",
    "    ed_size_2 = np.array(edge_size_2, dtype=np.int64)\n",
    "    \n",
    "\n",
    "\n",
    "    input0 = tritonhttpclient.InferInput(input_name[0], (1000,  100), 'FP32')\n",
    "    input0.set_data_from_numpy(input_node_matrix, binary_data=False)\n",
    "    \n",
    "    #layer-1\n",
    "    input1 = tritonhttpclient.InferInput(input_name[1], ed_index_0.shape, 'INT64')\n",
    "    input1.set_data_from_numpy(ed_index_0, binary_data=False)\n",
    "    #size\n",
    "    input2 = tritonhttpclient.InferInput(input_name[2], (2,), 'INT64')\n",
    "    input2.set_data_from_numpy(ed_size_0, binary_data=False)\n",
    "    \n",
    "    #layer-2\n",
    "    input3 = tritonhttpclient.InferInput(input_name[3], ed_index_1.shape, 'INT64')\n",
    "    input3.set_data_from_numpy(ed_index_1, binary_data=False)\n",
    "    #size\n",
    "    input4 = tritonhttpclient.InferInput(input_name[4], (2,), 'INT64')\n",
    "    input4.set_data_from_numpy(ed_size_1, binary_data=False)\n",
    "    \n",
    "    #layer-3\n",
    "    input5 = tritonhttpclient.InferInput(input_name[5], ed_index_2.shape, 'INT64')\n",
    "    input5.set_data_from_numpy(ed_index_2, binary_data=False)\n",
    "    #size\n",
    "    input6 = tritonhttpclient.InferInput(input_name[6], (2,), 'INT64')\n",
    "    input6.set_data_from_numpy(ed_size_2, binary_data=False)\n",
    "    \n",
    "    output0 = tritonhttpclient.InferRequestedOutput(output_name[0],  binary_data=False)\n",
    "    output1 = tritonhttpclient.InferRequestedOutput(output_name[1],  binary_data=False)\n",
    "    output2 = tritonhttpclient.InferRequestedOutput(output_name[2],  binary_data=False)\n",
    "    \n",
    "    response = triton_client.infer(model_name, model_version=model_version, inputs=[input0, input1, input2, input3, input4, input5, input6], outputs=[output0, output1, output2])\n",
    "    # layer-1 embeddings\n",
    "    embeddings_layer_1 = response.as_numpy('output__0')\n",
    "    # layer-2 embeddings\n",
    "    embeddings_layer_2 = response.as_numpy('output__1')\n",
    "    # # layer-3 embeddings\n",
    "    embeddings_layer_3 = response.as_numpy('output__2')\n",
    "    return embeddings_layer_1, embeddings_layer_2, embeddings_layer_3"
   ]
  },
  {
   "cell_type": "code",
   "execution_count": 64,
   "id": "4c14e939",
   "metadata": {},
   "outputs": [
    {
     "name": "stderr",
     "output_type": "stream",
     "text": [
      "/Users/sachin/anaconda3/envs/transformers/lib/python3.8/site-packages/ipykernel/ipkernel.py:287: DeprecationWarning: `should_run_async` will not call `transform_cell` automatically in the future. Please pass the result to `transformed_cell` argument and any exception that happen during thetransform in `preprocessing_exc_tuple` in IPython 7.17 and above.\n",
      "  and should_run_async(code)\n"
     ]
    }
   ],
   "source": [
    "emb1, emb2, emb3 = run_inference(dummy_x_pad, edge_index_0, edge_size_0, edge_index_1, edge_size_1, edge_index_2, edge_size_2)"
   ]
  },
  {
   "cell_type": "code",
   "execution_count": 65,
   "id": "c64d7f38",
   "metadata": {},
   "outputs": [
    {
     "name": "stderr",
     "output_type": "stream",
     "text": [
      "/Users/sachin/anaconda3/envs/transformers/lib/python3.8/site-packages/ipykernel/ipkernel.py:287: DeprecationWarning: `should_run_async` will not call `transform_cell` automatically in the future. Please pass the result to `transformed_cell` argument and any exception that happen during thetransform in `preprocessing_exc_tuple` in IPython 7.17 and above.\n",
      "  and should_run_async(code)\n"
     ]
    },
    {
     "data": {
      "text/plain": [
       "(500, 47)"
      ]
     },
     "execution_count": 65,
     "metadata": {},
     "output_type": "execute_result"
    }
   ],
   "source": [
    "emb3.shape"
   ]
  },
  {
   "cell_type": "code",
   "execution_count": 66,
   "id": "1991440e",
   "metadata": {},
   "outputs": [
    {
     "name": "stderr",
     "output_type": "stream",
     "text": [
      "/Users/sachin/anaconda3/envs/transformers/lib/python3.8/site-packages/ipykernel/ipkernel.py:287: DeprecationWarning: `should_run_async` will not call `transform_cell` automatically in the future. Please pass the result to `transformed_cell` argument and any exception that happen during thetransform in `preprocessing_exc_tuple` in IPython 7.17 and above.\n",
      "  and should_run_async(code)\n"
     ]
    },
    {
     "data": {
      "text/plain": [
       "array([  4.2246513 ,  -0.4564677 ,  -2.1890893 ,   1.6496025 ,\n",
       "         3.010801  ,  -2.2272007 ,   5.33481   ,  -9.296241  ,\n",
       "         0.4352603 ,  -5.7606072 ,   5.416895  ,  -0.32884753,\n",
       "        -3.7443688 ,  -5.3133497 , -11.545118  ,  -9.265142  ,\n",
       "         7.892888  ,   3.3840961 ,   0.16178823,  -1.949775  ,\n",
       "       -12.229473  ,   0.7407882 ,  -9.48527   ,  -2.15074   ,\n",
       "        -5.0011497 ,  -1.7124702 ,  -4.353361  ,  -2.8487844 ,\n",
       "        -4.9935174 , -23.178326  ,  -5.5515566 ,  -7.5406933 ,\n",
       "        -8.372204  ,  -9.640902  , -15.568034  , -16.474665  ,\n",
       "        -7.3028746 ,  -8.771542  , -10.82653   ,  -7.845075  ,\n",
       "       -11.450493  , -10.724498  , -10.494268  , -10.281946  ,\n",
       "        -9.315411  ,  -9.914256  , -10.783257  ], dtype=float32)"
      ]
     },
     "execution_count": 66,
     "metadata": {},
     "output_type": "execute_result"
    }
   ],
   "source": [
    "emb3[0]"
   ]
  },
  {
   "cell_type": "code",
   "execution_count": null,
   "id": "d300f0d4",
   "metadata": {},
   "outputs": [],
   "source": []
  }
 ],
 "metadata": {
  "kernelspec": {
   "display_name": "Python [conda env:transformers]",
   "language": "python",
   "name": "conda-env-transformers-py"
  },
  "language_info": {
   "codemirror_mode": {
    "name": "ipython",
    "version": 3
   },
   "file_extension": ".py",
   "mimetype": "text/x-python",
   "name": "python",
   "nbconvert_exporter": "python",
   "pygments_lexer": "ipython3",
   "version": "3.8.10"
  }
 },
 "nbformat": 4,
 "nbformat_minor": 5
}

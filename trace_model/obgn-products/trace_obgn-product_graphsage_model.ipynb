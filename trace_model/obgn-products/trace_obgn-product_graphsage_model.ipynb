{
 "cells": [
  {
   "cell_type": "code",
   "execution_count": 1,
   "id": "3776efe5",
   "metadata": {},
   "outputs": [],
   "source": [
    "import torch\n",
    "import torch.nn.functional as F\n",
    "from tqdm import tqdm\n",
    "from ogb.nodeproppred import PygNodePropPredDataset, Evaluator\n",
    "from torch_geometric.data import NeighborSampler\n",
    "from torch_geometric.nn import SAGEConv\n",
    "import os\n",
    "from torch_geometric.utils import to_networkx\n",
    "import networkx as nx\n",
    "# importing matplotlib.pyplot\n",
    "import matplotlib.pyplot as plt\n",
    "import numpy as np"
   ]
  },
  {
   "cell_type": "code",
   "execution_count": 2,
   "id": "ba3c80ec",
   "metadata": {},
   "outputs": [],
   "source": [
    "# path to dataset\n",
    "root = '/Users/sachin/Desktop/arangodb/scripts/ArangoML/graph_embeddings/products'"
   ]
  },
  {
   "cell_type": "code",
   "execution_count": 3,
   "id": "bcb7cca9",
   "metadata": {},
   "outputs": [],
   "source": [
    "dataset = PygNodePropPredDataset('ogbn-products', root)"
   ]
  },
  {
   "cell_type": "code",
   "execution_count": 4,
   "id": "6d0cb5e2",
   "metadata": {},
   "outputs": [],
   "source": [
    "# getting train val test split idx based on sales ranking\n",
    "split_idx = dataset.get_idx_split()\n",
    "evaluator = Evaluator(name='ogbn-products')\n",
    "data = dataset[0]"
   ]
  },
  {
   "cell_type": "code",
   "execution_count": 5,
   "id": "ae990f6c",
   "metadata": {},
   "outputs": [],
   "source": [
    "test_idx = split_idx['test']\n"
   ]
  },
  {
   "cell_type": "code",
   "execution_count": 6,
   "id": "fd7ad509",
   "metadata": {},
   "outputs": [],
   "source": [
    "test_loader = NeighborSampler(data.edge_index, node_idx=test_idx,\n",
    "                              sizes=[15, 10, 5], batch_size=1,\n",
    "                              shuffle=False, num_workers=12)"
   ]
  },
  {
   "cell_type": "code",
   "execution_count": 7,
   "id": "c126e982",
   "metadata": {},
   "outputs": [],
   "source": [
    "# selecting random test node and its adjacency matrix\n",
    "dummy_n_ids = []\n",
    "dummy_adjs = []\n",
    "for idx, (batch_size, n_id, adjs) in enumerate(test_loader):\n",
    "    if idx ==1:\n",
    "        dummy_n_ids.append(n_id)\n",
    "        dummy_adjs.append(adjs)\n",
    "        break"
   ]
  },
  {
   "cell_type": "code",
   "execution_count": 8,
   "id": "d6d629c1",
   "metadata": {},
   "outputs": [
    {
     "data": {
      "text/plain": [
       "torch.Size([718])"
      ]
     },
     "execution_count": 8,
     "metadata": {},
     "output_type": "execute_result"
    }
   ],
   "source": [
    "dummy_n_ids[0].shape"
   ]
  },
  {
   "cell_type": "code",
   "execution_count": 9,
   "id": "754d8204",
   "metadata": {},
   "outputs": [
    {
     "data": {
      "text/plain": [
       "3"
      ]
     },
     "execution_count": 9,
     "metadata": {},
     "output_type": "execute_result"
    }
   ],
   "source": [
    "len(dummy_adjs[0])"
   ]
  },
  {
   "cell_type": "code",
   "execution_count": 10,
   "id": "45273400",
   "metadata": {},
   "outputs": [],
   "source": [
    "# creating adjs for performing a trace on the GraphSage model\n",
    "# will contain only edge_idx and size attributes\n",
    "edge_list_0 = []\n",
    "edge_list_1 = []\n",
    "edge_list_2 = []\n",
    "edge_adjs = []\n",
    "for idx, e_idx in enumerate(dummy_adjs[0]):\n",
    "    if idx == 0:\n",
    "        edge_list_0.append(e_idx[0])\n",
    "        #edge_list_0.append(e_idx[1])\n",
    "        edge_list_0.append(torch.tensor(np.asarray(e_idx[2])))\n",
    "    elif idx == 1:\n",
    "        edge_list_1.append(e_idx[0])\n",
    "        #edge_list_1.append(e_idx[1])\n",
    "        edge_list_1.append(torch.tensor(np.asarray(e_idx[2])))\n",
    "    else:\n",
    "        edge_list_2.append(e_idx[0])\n",
    "        #edge_list_2.append(e_idx[1])\n",
    "        edge_list_2.append(torch.tensor(np.asarray(e_idx[2])))"
   ]
  },
  {
   "cell_type": "code",
   "execution_count": 11,
   "id": "a6af5763",
   "metadata": {},
   "outputs": [],
   "source": [
    "edge_index_0 = edge_list_0[0]\n",
    "edge_size_0 = edge_list_0[1]\n",
    "\n",
    "edge_index_1 = edge_list_1[0]\n",
    "edge_size_1 = edge_list_1[1]\n",
    "\n",
    "edge_index_2 = edge_list_2[0]\n",
    "edge_size_2 = edge_list_2[1]"
   ]
  },
  {
   "cell_type": "code",
   "execution_count": 12,
   "id": "8e7546ce",
   "metadata": {},
   "outputs": [
    {
     "data": {
      "text/plain": [
       "tensor([718, 153])"
      ]
     },
     "execution_count": 12,
     "metadata": {},
     "output_type": "execute_result"
    }
   ],
   "source": [
    "edge_size_0"
   ]
  },
  {
   "cell_type": "code",
   "execution_count": 13,
   "id": "275fe5d4",
   "metadata": {},
   "outputs": [],
   "source": [
    "device = torch.device('cuda' if torch.cuda.is_available() else 'cpu')\n",
    "x = data.x.to(device)"
   ]
  },
  {
   "cell_type": "code",
   "execution_count": 14,
   "id": "b09534f8",
   "metadata": {},
   "outputs": [
    {
     "data": {
      "text/plain": [
       "torch.Size([718, 100])"
      ]
     },
     "execution_count": 14,
     "metadata": {},
     "output_type": "execute_result"
    }
   ],
   "source": [
    "# total number of nodes involved in the computation graph\n",
    "x[dummy_n_ids[0]].shape"
   ]
  },
  {
   "cell_type": "code",
   "execution_count": 15,
   "id": "7dc1143d",
   "metadata": {},
   "outputs": [
    {
     "name": "stdout",
     "output_type": "stream",
     "text": [
      "torch.Size([718, 100])\n"
     ]
    }
   ],
   "source": [
    "# lets create node dummy input for the trace\n",
    "dummy_x = x[dummy_n_ids[0]]\n",
    "print(dummy_x.shape)"
   ]
  },
  {
   "cell_type": "code",
   "execution_count": 16,
   "id": "0949bc0c",
   "metadata": {},
   "outputs": [
    {
     "name": "stdout",
     "output_type": "stream",
     "text": [
      "torch.Size([1000, 100])\n"
     ]
    }
   ],
   "source": [
    "# padding nodes\n",
    "max_nodes = 1000\n",
    "total_nodes = dummy_x.size(0)\n",
    "nodes_padded = max_nodes - total_nodes\n",
    "dummy_x_pad = F.pad(input=dummy_x, pad=(0, 0, 0, nodes_padded), mode='constant', value=0)\n",
    "print(dummy_x_pad.shape)"
   ]
  },
  {
   "cell_type": "code",
   "execution_count": 27,
   "id": "a63a732c",
   "metadata": {},
   "outputs": [],
   "source": [
    "# graph sage\n",
    "class SAGE(torch.nn.Module):\n",
    "    def __init__(self, in_channels, hidden_channels, out_channels, num_layers=3):\n",
    "        super(SAGE, self).__init__()\n",
    "\n",
    "        self.num_layers = num_layers\n",
    "\n",
    "        self.convs = torch.nn.ModuleList()\n",
    "        self.convs.append(SAGEConv(in_channels, hidden_channels))\n",
    "        for _ in range(num_layers - 2):\n",
    "            self.convs.append(SAGEConv(hidden_channels, hidden_channels))\n",
    "        self.convs.append(SAGEConv(hidden_channels, out_channels))\n",
    "    \n",
    "    def forward(self, x, edge_index_0, edge_size_0, edge_index_1, edge_size_1, edge_index_2, edge_size_2):\n",
    "        # `train_loader` computes the k-hop neighborhood of a batch of nodes,\n",
    "        # and returns, for each layer, a bipartite graph object, holding the\n",
    "        # bipartite edges `edge_index`, the index `e_id` of the original edges,\n",
    "        # and the size/shape `size` of the bipartite graph.\n",
    "        # Target nodes are also included in the source nodes so that one can\n",
    "        # easily apply skip-connections or add self-loops.\n",
    "        max_target_nodes = 500\n",
    "        for i in range(3):\n",
    "            xs = []\n",
    "            \n",
    "            if i == 0:\n",
    "                edge_index = edge_index_0\n",
    "                size = edge_size_0\n",
    "            elif i == 1:\n",
    "                edge_index = edge_index_1\n",
    "                size = edge_size_1\n",
    "            elif i ==2:\n",
    "                edge_index = edge_index_2\n",
    "                size = edge_size_2\n",
    "                \n",
    "            x_target = x[:size[1]]  # Target nodes are always placed first.\n",
    "            tar_nodes_padded = max_target_nodes - size[1]\n",
    "            x_target = F.pad(input=x_target, pad=(0, 0, 0, tar_nodes_padded), mode='constant', value=0)\n",
    "\n",
    "            x = self.convs[i]((x, x_target), edge_index)\n",
    "            \n",
    "            if i != self.num_layers - 1:\n",
    "                x = F.relu(x)\n",
    "                #x = F.dropout(x, p=0.5, training=self.training)\n",
    "            xs.append(x)\n",
    "            if i == 0: \n",
    "                x_all = torch.cat(xs, dim=0)\n",
    "                layer_1_embeddings = x_all\n",
    "            elif i == 1:\n",
    "                x_all = torch.cat(xs, dim=0)\n",
    "                layer_2_embeddings = x_all\n",
    "            elif i == 2:\n",
    "                x_all = torch.cat(xs, dim=0)\n",
    "                layer_3_embeddings = x_all    \n",
    "        #return x.log_softmax(dim=-1)\n",
    "        return layer_1_embeddings, layer_2_embeddings, layer_3_embeddings"
   ]
  },
  {
   "cell_type": "code",
   "execution_count": 28,
   "id": "60c73481",
   "metadata": {},
   "outputs": [],
   "source": [
    "# import model and chechkpoint\n",
    "device = torch.device('cuda' if torch.cuda.is_available() else 'cpu')\n",
    "model = SAGE(dataset.num_features, 256, dataset.num_classes)"
   ]
  },
  {
   "cell_type": "code",
   "execution_count": 29,
   "id": "1444b6dc",
   "metadata": {},
   "outputs": [
    {
     "data": {
      "text/plain": [
       "<All keys matched successfully>"
      ]
     },
     "execution_count": 29,
     "metadata": {},
     "output_type": "execute_result"
    }
   ],
   "source": [
    "# loading checkpont\n",
    "model_checkpoint = './weight_checkpoint.pth.tar'\n",
    "model_w = torch.load(model_checkpoint)\n",
    "model_w = model_w[\"state_dict\"]\n",
    "model.load_state_dict(model_w)"
   ]
  },
  {
   "cell_type": "markdown",
   "id": "9ead6474",
   "metadata": {},
   "source": [
    "# Performing Trace on the Model"
   ]
  },
  {
   "cell_type": "code",
   "execution_count": 30,
   "id": "3c380d37",
   "metadata": {},
   "outputs": [],
   "source": [
    "class PyTorch_to_TorchScript(torch.nn.Module):\n",
    "    def __init__(self):\n",
    "        super(PyTorch_to_TorchScript, self).__init__()\n",
    "        self.model = model\n",
    "    def forward(self, data, edge_index_0, edge_size_0, edge_index_1, edge_size_1, edge_index_2, edge_size_2):\n",
    "        return self.model(data, edge_index_0, edge_size_0, edge_index_1, edge_size_1, edge_index_2, edge_size_2)"
   ]
  },
  {
   "cell_type": "code",
   "execution_count": 31,
   "id": "1e2a0a14",
   "metadata": {},
   "outputs": [],
   "source": [
    "# after trace it will save the model in cwd\n",
    "pt_model = PyTorch_to_TorchScript().eval()"
   ]
  },
  {
   "cell_type": "code",
   "execution_count": 32,
   "id": "5de7e9e7",
   "metadata": {},
   "outputs": [],
   "source": [
    "# trace\n",
    "traced_script_module = torch.jit.trace(pt_model, (dummy_x_pad, edge_index_0, edge_size_0, edge_index_1, edge_size_1, edge_index_2, edge_size_2), strict=False)"
   ]
  },
  {
   "cell_type": "code",
   "execution_count": 33,
   "id": "4995dae6",
   "metadata": {},
   "outputs": [],
   "source": [
    "# saving the traced model in cwd\n",
    "traced_script_module.save(\"./model.pt\")"
   ]
  },
  {
   "cell_type": "markdown",
   "id": "ded7c499",
   "metadata": {},
   "source": [
    "## Loading traced model"
   ]
  },
  {
   "cell_type": "code",
   "execution_count": 34,
   "id": "1abacc38",
   "metadata": {},
   "outputs": [],
   "source": [
    "tr_model = torch.jit.load(\"./model.pt\")"
   ]
  },
  {
   "cell_type": "code",
   "execution_count": 35,
   "id": "36036c95",
   "metadata": {},
   "outputs": [],
   "source": [
    "tr_out = tr_model(dummy_x_pad, edge_index_0, edge_size_0, edge_index_1, edge_size_1, edge_index_2, edge_size_2)"
   ]
  },
  {
   "cell_type": "code",
   "execution_count": 36,
   "id": "ed83500e",
   "metadata": {},
   "outputs": [
    {
     "data": {
      "text/plain": [
       "(torch.Size([500, 256]), torch.Size([500, 256]), torch.Size([500, 47]))"
      ]
     },
     "execution_count": 36,
     "metadata": {},
     "output_type": "execute_result"
    }
   ],
   "source": [
    "# layer-1, layer-2, layer-3 embeddings\n",
    "out[0].shape, out[1].shape, out[2].shape"
   ]
  },
  {
   "cell_type": "code",
   "execution_count": 37,
   "id": "dcc5434d",
   "metadata": {},
   "outputs": [
    {
     "data": {
      "text/plain": [
       "tensor([[0.0000, 1.1483, 0.0000,  ..., 0.0866, 1.2719, 0.0000],\n",
       "        [0.0000, 0.9348, 0.0000,  ..., 0.8225, 1.4933, 0.0000],\n",
       "        [0.0000, 0.0000, 0.0000,  ..., 1.6156, 2.7243, 0.0000],\n",
       "        ...,\n",
       "        [0.0000, 0.0000, 0.0000,  ..., 0.0000, 0.0000, 0.0000],\n",
       "        [0.0000, 0.0000, 0.0000,  ..., 0.0000, 0.0000, 0.0000],\n",
       "        [0.0000, 0.0000, 0.0000,  ..., 0.0000, 0.0000, 0.0000]],\n",
       "       grad_fn=<CatBackward>)"
      ]
     },
     "execution_count": 37,
     "metadata": {},
     "output_type": "execute_result"
    }
   ],
   "source": [
    "out[0]"
   ]
  },
  {
   "cell_type": "code",
   "execution_count": null,
   "id": "203b7554",
   "metadata": {},
   "outputs": [],
   "source": []
  }
 ],
 "metadata": {
  "kernelspec": {
   "display_name": "Python [conda env:transformers]",
   "language": "python",
   "name": "conda-env-transformers-py"
  },
  "language_info": {
   "codemirror_mode": {
    "name": "ipython",
    "version": 3
   },
   "file_extension": ".py",
   "mimetype": "text/x-python",
   "name": "python",
   "nbconvert_exporter": "python",
   "pygments_lexer": "ipython3",
   "version": "3.8.10"
  }
 },
 "nbformat": 4,
 "nbformat_minor": 5
}
